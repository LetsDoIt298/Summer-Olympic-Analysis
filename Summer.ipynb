{
  "nbformat": 4,
  "nbformat_minor": 0,
  "metadata": {
    "colab": {
      "name": "Summer.ipynb",
      "provenance": [],
      "collapsed_sections": []
    },
    "kernelspec": {
      "name": "python3",
      "display_name": "Python 3"
    },
    "language_info": {
      "name": "python"
    }
  },
  "cells": [
    {
      "cell_type": "code",
      "metadata": {
        "id": "cIpE-d84qw_y"
      },
      "source": [
        "import pandas as pd"
      ],
      "execution_count": 9,
      "outputs": []
    },
    {
      "cell_type": "code",
      "metadata": {
        "id": "ZzxjyM6LL8Hh"
      },
      "source": [
        "df = pd.read_csv('summer.csv')"
      ],
      "execution_count": 10,
      "outputs": []
    },
    {
      "cell_type": "markdown",
      "metadata": {
        "id": "frlzNz6hKHQt"
      },
      "source": [
        "# 1. In how many cities Summer Olympics is held so far?\"\n"
      ]
    },
    {
      "cell_type": "code",
      "metadata": {
        "colab": {
          "base_uri": "https://localhost:8080/"
        },
        "id": "QK1dblYiL1a9",
        "outputId": "92dc08a0-3eb4-4f94-cf22-7a3cc99eff96"
      },
      "source": [
        "df = pd.read_csv('summer.csv')\n",
        "citt = df['City'].unique()\n",
        "len(citt)"
      ],
      "execution_count": 11,
      "outputs": [
        {
          "output_type": "execute_result",
          "data": {
            "text/plain": [
              "22"
            ]
          },
          "metadata": {},
          "execution_count": 11
        }
      ]
    },
    {
      "cell_type": "code",
      "metadata": {
        "id": "sCX5nyxj36e6"
      },
      "source": [
        ""
      ],
      "execution_count": 11,
      "outputs": []
    },
    {
      "cell_type": "markdown",
      "metadata": {
        "id": "qlh7CQf_MbGg"
      },
      "source": [
        "# 2) Which sport is having most number of Gold Medals so far? (Top 5)"
      ]
    },
    {
      "cell_type": "code",
      "metadata": {
        "colab": {
          "base_uri": "https://localhost:8080/",
          "height": 398
        },
        "id": "7VWf7IlwKghC",
        "outputId": "03c92594-e822-40ef-a3fc-990aaab730a2"
      },
      "source": [
        "df = pd.read_csv('summer.csv')\n",
        "df = df[df['Medal']=='Gold']\n",
        " \n",
        "sp_g=[] \n",
        "for sport in df['Sport'].unique():\n",
        "                  sp_g.append( [sport,  len(df [df['Sport']==sport]) ] )\n",
        "              \n",
        "sp_g\n",
        "pd.DataFrame(sp_g, columns=['SPORT','GOLDS']).sort_values(by = 'GOLDS', ascending = False).head().plot(x='SPORT',y='GOLDS',kind='bar', figsize = (10,5))"
      ],
      "execution_count": 12,
      "outputs": [
        {
          "output_type": "execute_result",
          "data": {
            "text/plain": [
              "<matplotlib.axes._subplots.AxesSubplot at 0x7f5f26cb40d0>"
            ]
          },
          "metadata": {},
          "execution_count": 12
        },
        {
          "output_type": "display_data",
          "data": {
            "image/png": "[encoded data removed]",
            "text/plain": [
              "<Figure size 720x360 with 1 Axes>"
            ]
          },
          "metadata": {
            "needs_background": "light"
          }
        }
      ]
    },
    {
      "cell_type": "code",
      "metadata": {
        "colab": {
          "base_uri": "https://localhost:8080/",
          "height": 398
        },
        "id": "EVLyxxRh_QOj",
        "outputId": "826701b1-d2b4-4d1e-f54d-723190ae7489"
      },
      "source": [
        "#OTHER WAY TO SOLVE Q2\n",
        "\n",
        "df = pd.read_csv('summer.csv')\n",
        "df = df[df['Medal']=='Gold']\n",
        "\n",
        "df.groupby('Sport').count()['Medal'].sort_values(ascending = False).head().plot.bar(figsize = (10,5) )"
      ],
      "execution_count": 13,
      "outputs": [
        {
          "output_type": "execute_result",
          "data": {
            "text/plain": [
              "<matplotlib.axes._subplots.AxesSubplot at 0x7f5f26c10a10>"
            ]
          },
          "metadata": {},
          "execution_count": 13
        },
        {
          "output_type": "display_data",
          "data": {
            "image/png": "[encoded data removed]",
            "text/plain": [
              "<Figure size 720x360 with 1 Axes>"
            ]
          },
          "metadata": {
            "needs_background": "light"
          }
        }
      ]
    },
    {
      "cell_type": "code",
      "metadata": {
        "id": "_6sUypNWKgvd"
      },
      "source": [
        ""
      ],
      "execution_count": 13,
      "outputs": []
    },
    {
      "cell_type": "code",
      "metadata": {
        "id": "QtKAzECnUowF"
      },
      "source": [
        ""
      ],
      "execution_count": 13,
      "outputs": []
    },
    {
      "cell_type": "markdown",
      "metadata": {
        "id": "157IC0xlQY3g"
      },
      "source": [
        " # Q3 Which sport is having most number of medals so far? (Top 5)"
      ]
    },
    {
      "cell_type": "code",
      "metadata": {
        "colab": {
          "base_uri": "https://localhost:8080/",
          "height": 398
        },
        "id": "My3N1hhQQcME",
        "outputId": "ffa58c1e-4000-4f2a-ccda-6990c80707de"
      },
      "source": [
        "df = pd.read_csv('summer.csv')\n",
        "\n",
        "sp_m=[] \n",
        "for sport in df['Sport'].unique():\n",
        "                  sp_m.append( [sport,  len(df [df['Sport']==sport]) ] )\n",
        "              \n",
        "pd.DataFrame(sp_m, columns=['SPORT','MEDAL']).sort_values(by = 'MEDAL', ascending = False).head().plot(x='SPORT',y='MEDAL',kind='bar', figsize=(10,5) )\n"
      ],
      "execution_count": 14,
      "outputs": [
        {
          "output_type": "execute_result",
          "data": {
            "text/plain": [
              "<matplotlib.axes._subplots.AxesSubplot at 0x7f5f26249950>"
            ]
          },
          "metadata": {},
          "execution_count": 14
        },
        {
          "output_type": "display_data",
          "data": {
            "image/png": "[encoded data removed]",
            "text/plain": [
              "<Figure size 720x360 with 1 Axes>"
            ]
          },
          "metadata": {
            "needs_background": "light"
          }
        }
      ]
    },
    {
      "cell_type": "code",
      "metadata": {
        "colab": {
          "base_uri": "https://localhost:8080/",
          "height": 398
        },
        "id": "NA_HWdO2Dbzz",
        "outputId": "b6009714-5a6d-4f7c-a68b-b1d370b71186"
      },
      "source": [
        "# OTHER WAY TO SOLVE Q3\n",
        "\n",
        "df = pd.read_csv('summer.csv')\n",
        "\n",
        "df.groupby('Sport').count()['Medal'].sort_values(ascending = False).head().plot.bar(figsize = (10,5))"
      ],
      "execution_count": 15,
      "outputs": [
        {
          "output_type": "execute_result",
          "data": {
            "text/plain": [
              "<matplotlib.axes._subplots.AxesSubplot at 0x7f5f263dddd0>"
            ]
          },
          "metadata": {},
          "execution_count": 15
        },
        {
          "output_type": "display_data",
          "data": {
            "image/png": "[encoded data removed]",
            "text/plain": [
              "<Figure size 720x360 with 1 Axes>"
            ]
          },
          "metadata": {
            "needs_background": "light"
          }
        }
      ]
    },
    {
      "cell_type": "code",
      "metadata": {
        "id": "i_M2T2884D9t"
      },
      "source": [
        ""
      ],
      "execution_count": 15,
      "outputs": []
    },
    {
      "cell_type": "markdown",
      "metadata": {
        "id": "1C0JcrefSkwe"
      },
      "source": [
        "# Q4. Which player has won most number of medals? (Top 5)"
      ]
    },
    {
      "cell_type": "code",
      "metadata": {
        "colab": {
          "base_uri": "https://localhost:8080/",
          "height": 457
        },
        "id": "auhDIO25Spe_",
        "outputId": "995d8a4c-23ed-4491-a350-f2790feecfc9"
      },
      "source": [
        "df = pd.read_csv('summer.csv')\n",
        "\n",
        "pylr =[] \n",
        "for athlete in df['Athlete'].unique():\n",
        "                  pylr.append( [athlete,  len(df [df['Athlete']== athlete]) ] )\n",
        "\n",
        "pylr\n",
        "pd.DataFrame(pylr, columns=['NAMES','MEDAL']).sort_values(by = 'MEDAL', ascending = False).head().plot(x='NAMES',y='MEDAL',kind='bar',figsize=(10,5))             "
      ],
      "execution_count": 16,
      "outputs": [
        {
          "output_type": "execute_result",
          "data": {
            "text/plain": [
              "<matplotlib.axes._subplots.AxesSubplot at 0x7f5f2628ac10>"
            ]
          },
          "metadata": {},
          "execution_count": 16
        },
        {
          "output_type": "display_data",
          "data": {
            "image/png": "[encoded data removed]",
            "text/plain": [
              "<Figure size 720x360 with 1 Axes>"
            ]
          },
          "metadata": {
            "needs_background": "light"
          }
        }
      ]
    },
    {
      "cell_type": "code",
      "metadata": {
        "colab": {
          "base_uri": "https://localhost:8080/",
          "height": 457
        },
        "id": "_NmoN5MFEahS",
        "outputId": "f0a655db-3973-4661-f6c2-ba9a87e35660"
      },
      "source": [
        "#OTHER WAY TO SOLVE Q4\n",
        "\n",
        "df = pd.read_csv('summer.csv')\n",
        "\n",
        "df.groupby('Athlete').count()['Medal'].sort_values(ascending=False).head().plot.bar(figsize=(10,5))"
      ],
      "execution_count": 17,
      "outputs": [
        {
          "output_type": "execute_result",
          "data": {
            "text/plain": [
              "<matplotlib.axes._subplots.AxesSubplot at 0x7f5f25ef8a10>"
            ]
          },
          "metadata": {},
          "execution_count": 17
        },
        {
          "output_type": "display_data",
          "data": {
            "image/png": "[encoded data removed]",
            "text/plain": [
              "<Figure size 720x360 with 1 Axes>"
            ]
          },
          "metadata": {
            "needs_background": "light"
          }
        }
      ]
    },
    {
      "cell_type": "code",
      "metadata": {
        "id": "zDJubMmtjkhK"
      },
      "source": [
        ""
      ],
      "execution_count": 17,
      "outputs": []
    },
    {
      "cell_type": "markdown",
      "metadata": {
        "id": "Ko3VKSgTrD00"
      },
      "source": [
        "# Q5. Which player has won most number Gold Medals of medals? (Top 5)"
      ]
    },
    {
      "cell_type": "code",
      "metadata": {
        "colab": {
          "base_uri": "https://localhost:8080/",
          "height": 425
        },
        "id": "nUujs6I_rHm9",
        "outputId": "e3ca305a-a92d-4b31-fc01-2aa2298b01f5"
      },
      "source": [
        "df = pd.read_csv('summer.csv')\n",
        "df = df[df['Medal']=='Gold']\n",
        "\n",
        "pylr =[] \n",
        "for athlete in df['Athlete'].unique():\n",
        "                  pylr.append( [athlete,  len(df [df['Athlete']== athlete]) ] )\n",
        "\n",
        "pylr\n",
        "pd.DataFrame(pylr, columns=['NAMES','MEDAL']).sort_values(by = 'MEDAL', ascending = False).head().plot(x='NAMES',y='MEDAL',kind='bar',figsize=(10,5))              "
      ],
      "execution_count": 18,
      "outputs": [
        {
          "output_type": "execute_result",
          "data": {
            "text/plain": [
              "<matplotlib.axes._subplots.AxesSubplot at 0x7f5f26227890>"
            ]
          },
          "metadata": {},
          "execution_count": 18
        },
        {
          "output_type": "display_data",
          "data": {
            "image/png": "[encoded data removed]",
            "text/plain": [
              "<Figure size 720x360 with 1 Axes>"
            ]
          },
          "metadata": {
            "needs_background": "light"
          }
        }
      ]
    },
    {
      "cell_type": "code",
      "metadata": {
        "colab": {
          "base_uri": "https://localhost:8080/",
          "height": 425
        },
        "id": "8J_wubQVHslU",
        "outputId": "c5aa3038-1d4f-4e20-efce-8399193b64c6"
      },
      "source": [
        "# OTHER WAY TO SOLVE Q5\n",
        "\n",
        "df = pd.read_csv('summer.csv')\n",
        "df = df[df['Medal']=='Gold']\n",
        "\n",
        "df.groupby('Athlete').count()['Medal'].sort_values(ascending = False).head().plot.bar(figsize=(10,5))"
      ],
      "execution_count": 19,
      "outputs": [
        {
          "output_type": "execute_result",
          "data": {
            "text/plain": [
              "<matplotlib.axes._subplots.AxesSubplot at 0x7f5f26413850>"
            ]
          },
          "metadata": {},
          "execution_count": 19
        },
        {
          "output_type": "display_data",
          "data": {
            "image/png": "[encoded data removed]",
            "text/plain": [
              "<Figure size 720x360 with 1 Axes>"
            ]
          },
          "metadata": {
            "needs_background": "light"
          }
        }
      ]
    },
    {
      "cell_type": "code",
      "metadata": {
        "id": "dA3bCIpj4J6r"
      },
      "source": [
        ""
      ],
      "execution_count": 19,
      "outputs": []
    },
    {
      "cell_type": "markdown",
      "metadata": {
        "id": "WGO_1ISgsB6i"
      },
      "source": [
        "# Q6. In which year India won first Gold Medal in Summer Olympics?"
      ]
    },
    {
      "cell_type": "code",
      "metadata": {
        "colab": {
          "base_uri": "https://localhost:8080/",
          "height": 78
        },
        "id": "djxCqb3msGx-",
        "outputId": "cee25eaf-cdc3-4816-d3a5-93e5434780a7"
      },
      "source": [
        "df = pd.read_csv('summer.csv')\n",
        "df = df[df['Medal']=='Gold']\n",
        "df = df[df['Country']=='IND']      #India Clubs\n",
        "\n",
        "a =[] \n",
        "for i in df['Year'].unique():\n",
        "                   a.append(i)\n",
        "a\n",
        "pd.DataFrame(a, columns=['Year in which India won 1st Gold Medal']).sort_values(by = 'Year in which India won 1st Gold Medal', ascending = True).head(1)             "
      ],
      "execution_count": 20,
      "outputs": [
        {
          "output_type": "execute_result",
          "data": {
            "text/html": [
              "<div>\n",
              "<style scoped>\n",
              "    .dataframe tbody tr th:only-of-type {\n",
              "        vertical-align: middle;\n",
              "    }\n",
              "\n",
              "    .dataframe tbody tr th {\n",
              "        vertical-align: top;\n",
              "    }\n",
              "\n",
              "    .dataframe thead th {\n",
              "        text-align: right;\n",
              "    }\n",
              "</style>\n",
              "<table border=\"1\" class=\"dataframe\">\n",
              "  <thead>\n",
              "    <tr style=\"text-align: right;\">\n",
              "      <th></th>\n",
              "      <th>Year in which India won 1st Gold Medal</th>\n",
              "    </tr>\n",
              "  </thead>\n",
              "  <tbody>\n",
              "    <tr>\n",
              "      <th>0</th>\n",
              "      <td>1928</td>\n",
              "    </tr>\n",
              "  </tbody>\n",
              "</table>\n",
              "</div>"
            ],
            "text/plain": [
              "   Year in which India won 1st Gold Medal\n",
              "0                                    1928"
            ]
          },
          "metadata": {},
          "execution_count": 20
        }
      ]
    },
    {
      "cell_type": "code",
      "metadata": {
        "id": "opZBpFko4NfL"
      },
      "source": [
        ""
      ],
      "execution_count": 20,
      "outputs": []
    },
    {
      "cell_type": "markdown",
      "metadata": {
        "id": "6LFw2pEUw8m-"
      },
      "source": [
        "# Q7. Which event is most popular in terms on number of players? (Top 5)"
      ]
    },
    {
      "cell_type": "code",
      "metadata": {
        "colab": {
          "base_uri": "https://localhost:8080/",
          "height": 430
        },
        "id": "a8kK5_8_2Edn",
        "outputId": "898c5156-f52e-4a1a-affa-ff19c9aa57f7"
      },
      "source": [
        "df = pd.read_csv('summer.csv')\n",
        "df.groupby('Event').count()['Athlete'].sort_values(ascending = False).head().plot.bar(figsize=(10,5))\n"
      ],
      "execution_count": 21,
      "outputs": [
        {
          "output_type": "execute_result",
          "data": {
            "text/plain": [
              "<matplotlib.axes._subplots.AxesSubplot at 0x7f5f26414150>"
            ]
          },
          "metadata": {},
          "execution_count": 21
        },
        {
          "output_type": "display_data",
          "data": {
            "image/png": "[encoded data removed]",
            "text/plain": [
              "<Figure size 720x360 with 1 Axes>"
            ]
          },
          "metadata": {
            "needs_background": "light"
          }
        }
      ]
    },
    {
      "cell_type": "code",
      "metadata": {
        "id": "FaSLcbgryE-z"
      },
      "source": [
        ""
      ],
      "execution_count": 21,
      "outputs": []
    },
    {
      "cell_type": "code",
      "metadata": {
        "id": "mmadFTRDyFBt"
      },
      "source": [
        ""
      ],
      "execution_count": 21,
      "outputs": []
    },
    {
      "cell_type": "markdown",
      "metadata": {
        "id": "ULjB1EreyFYY"
      },
      "source": [
        "# Q8. Which sport is having most female Gold Medalists? (Top 5)"
      ]
    },
    {
      "cell_type": "code",
      "metadata": {
        "colab": {
          "base_uri": "https://localhost:8080/",
          "height": 343
        },
        "id": "Q1JMBgxUyJqq",
        "outputId": "dcc82794-34a1-4585-ba0d-a93948573cfa"
      },
      "source": [
        "df = pd.read_csv('summer.csv')\n",
        "df = df[df['Gender']=='Women']\n",
        "df = df[df['Medal']=='Gold']\n",
        "\n",
        "\n",
        "df.groupby('Sport').count()['Athlete'].sort_values(ascending = False).head().plot.bar()"
      ],
      "execution_count": 22,
      "outputs": [
        {
          "output_type": "execute_result",
          "data": {
            "text/plain": [
              "<matplotlib.axes._subplots.AxesSubplot at 0x7f5f264d7110>"
            ]
          },
          "metadata": {},
          "execution_count": 22
        },
        {
          "output_type": "display_data",
          "data": {
            "image/png": "[encoded data removed]",
            "text/plain": [
              "<Figure size 432x288 with 1 Axes>"
            ]
          },
          "metadata": {
            "needs_background": "light"
          }
        }
      ]
    },
    {
      "cell_type": "code",
      "metadata": {
        "id": "dWJUg7qM3p8v"
      },
      "source": [
        ""
      ],
      "execution_count": 22,
      "outputs": []
    },
    {
      "cell_type": "code",
      "metadata": {
        "id": "_23bRHVL4xaD"
      },
      "source": [
        ""
      ],
      "execution_count": 22,
      "outputs": []
    },
    {
      "cell_type": "code",
      "metadata": {
        "id": "kQtO3ZKQ4xdG"
      },
      "source": [
        ""
      ],
      "execution_count": 22,
      "outputs": []
    },
    {
      "cell_type": "code",
      "metadata": {
        "id": "_fC-1lZV4xxT"
      },
      "source": [
        ""
      ],
      "execution_count": 22,
      "outputs": []
    }
  ]
}